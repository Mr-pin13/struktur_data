{
 "cells": [
  {
   "cell_type": "code",
   "execution_count": 6,
   "id": "e1ed6a04",
   "metadata": {},
   "outputs": [
    {
     "name": "stdout",
     "output_type": "stream",
     "text": [
      "9 adalah ganjil\n"
     ]
    }
   ],
   "source": [
    "def isEven(n):\n",
    "    if n == (n>>1) << 1:\n",
    "        return True\n",
    "    else: \n",
    "        return False\n",
    "\n",
    "n = 9\n",
    "if isEven(n):\n",
    "    print(f\"{n} adalah genap\")\n",
    "else: \n",
    "    print (f\"{n} adalah ganjil\")"
   ]
  }
 ],
 "metadata": {
  "kernelspec": {
   "display_name": "Python 3",
   "language": "python",
   "name": "python3"
  },
  "language_info": {
   "codemirror_mode": {
    "name": "ipython",
    "version": 3
   },
   "file_extension": ".py",
   "mimetype": "text/x-python",
   "name": "python",
   "nbconvert_exporter": "python",
   "pygments_lexer": "ipython3",
   "version": "3.12.3"
  }
 },
 "nbformat": 4,
 "nbformat_minor": 5
}
