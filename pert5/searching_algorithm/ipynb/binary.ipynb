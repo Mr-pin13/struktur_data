{
 "cells": [
  {
   "cell_type": "code",
   "execution_count": null,
   "id": "120656f7",
   "metadata": {},
   "outputs": [],
   "source": [
    "def bs(arr, target):\n",
    "    left,right = 0, len(arr)-1\n",
    "    while left <= right :\n",
    "        mid = left + (right-left):\n",
    "        if arr[mid] < target"
   ]
  }
 ],
 "metadata": {
  "language_info": {
   "name": "python"
  }
 },
 "nbformat": 4,
 "nbformat_minor": 5
}
